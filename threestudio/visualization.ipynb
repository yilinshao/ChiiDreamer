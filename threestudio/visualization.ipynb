{
 "cells": [
  {
   "cell_type": "code",
   "execution_count": 2,
   "metadata": {},
   "outputs": [
    {
     "name": "stdout",
     "output_type": "stream",
     "text": [
      "Jupyter environment detected. Enabling Open3D WebVisualizer.\n",
      "[Open3D INFO] WebRTC GUI backend enabled.\n",
      "[Open3D INFO] WebRTCWindowSystem: HTTP handshake server disabled.\n"
     ]
    }
   ],
   "source": [
    "from IPython.display import HTML\n",
    "from base64 import b64encode\n",
    "import open3d as o3d\n",
    "import numpy as np\n",
    "import torch\n",
    "import torch.nn as nn\n",
    "from plyfile import PlyData, PlyElement"
   ]
  },
  {
   "cell_type": "code",
   "execution_count": 3,
   "metadata": {},
   "outputs": [
    {
     "name": "stdout",
     "output_type": "stream",
     "text": [
      "\u001b[1;33m[Open3D WARNING] GLFW Error: X11: The DISPLAY environment variable is missing\u001b[0;m\n",
      "\u001b[1;33m[Open3D WARNING] Failed to initialize GLFW\u001b[0;m\n"
     ]
    },
    {
     "data": {
      "text/plain": [
       "False"
      ]
     },
     "execution_count": 3,
     "metadata": {},
     "output_type": "execute_result"
    }
   ],
   "source": [
    "box_config = []\n",
    "# 创建一个长方体 the whole unit scale of axis is 2.\n",
    "box_info_0 = [2.0, 0.5, 1.0, 0.0, 0.0, -0.6]\n",
    "box_info_1 = [1.0, 0.4, 1.0, 0.0, -0.4, 0.2]\n",
    "box_config.append(box_info_0)\n",
    "box_config.append(box_info_1)\n",
    "\n",
    "axis_length = 2.0  # 坐标轴的长度\n",
    "axis = o3d.geometry.TriangleMesh.create_coordinate_frame(size=axis_length, origin=[0, 0, 0])\n",
    "\n",
    "# 可视化几何体和其有向包围盒\n",
    "vis = o3d.visualization.Visualizer()\n",
    "vis.create_window()\n",
    "\n",
    "vis_box_list = []\n",
    "for i, box_info in enumerate(box_config):\n",
    "    box = o3d.geometry.TriangleMesh.create_box(box_info[0], box_info[1], box_info[2]) # creating a box with width, height, depth\n",
    "    box.compute_vertex_normals() # For better visualization of surfaces for boxes.\n",
    "    box.translate([-box_info[0]/2., -box_info[1]/2., -box_info[2]/2.]) # 平移一个长方体到原点位置\n",
    "    box.translate([box_info[3], box_info[4], box_info[5]]) # wat is this doing?\n",
    "\n",
    "    box.paint_uniform_color([0.1 + i * 0.2, 0.1 + i * 0.2, 0.7 - i * 0.2])\n",
    "\n",
    "    # 计算长方体的有向包围盒\n",
    "    obb = box.get_oriented_bounding_box()\n",
    "    obb.color = (1, 0, 0)  # 红色\n",
    "    vis_box_list.append(box)\n",
    "    vis.add_geometry(box)\n",
    "    \n",
    "# # 平移有向包围盒\n",
    "# translation = [1, 2, 3]\n",
    "# obb.translate(translation)\n",
    "\n",
    "# # 旋转有向包围盒\n",
    "# rotation_matrix = obb.get_rotation_matrix_from_xyz((np.pi / 4, np.pi / 4, np.pi / 4))\n",
    "# obb.rotate(rotation_matrix, center=obb.get_center())\n",
    "\n",
    "# 缩放有向包围盒\n",
    "# scale_factor = 1.5\n",
    "# obb.scale(scale_factor, center=obb.get_center())\n",
    "\n",
    "vis.add_geometry(axis)\n",
    "# vis.run()\n",
    "# vis.destroy_window()"
   ]
  }
 ],
 "metadata": {
  "kernelspec": {
   "display_name": "dreamin4d",
   "language": "python",
   "name": "dreamin4d"
  },
  "language_info": {
   "codemirror_mode": {
    "name": "ipython",
    "version": 3
   },
   "file_extension": ".py",
   "mimetype": "text/x-python",
   "name": "python",
   "nbconvert_exporter": "python",
   "pygments_lexer": "ipython3",
   "version": "3.9.19"
  }
 },
 "nbformat": 4,
 "nbformat_minor": 2
}
